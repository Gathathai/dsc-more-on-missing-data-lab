{
 "cells": [
  {
   "cell_type": "markdown",
   "metadata": {},
   "source": [
    "# More on Missing Data - Lab\n",
    "\n",
    "## Introduction\n",
    "\n",
    "In this lab, you'll continue to practice techniques for dealing with missing data. Moreover, you'll observe the impact on distributions of your data produced by various techniques for dealing with missing data.\n",
    "\n",
    "## Objectives\n",
    "\n",
    "In this lab you will: \n",
    "\n",
    "- Evaluate and execute the best strategy for dealing with missing, duplicate, and erroneous values for a given dataset   \n",
    "- Determine how the distribution of data is affected by imputing values "
   ]
  },
  {
   "cell_type": "markdown",
   "metadata": {},
   "source": [
    "## Load the data\n",
    "\n",
    "To start, load the dataset `'titanic.csv'` using pandas."
   ]
  },
  {
   "cell_type": "code",
   "execution_count": 1,
   "metadata": {},
   "outputs": [
    {
     "name": "stdout",
     "output_type": "stream",
     "text": [
      "   PassengerId  Survived Pclass  \\\n",
      "0          1.0       0.0      3   \n",
      "1          2.0       1.0      1   \n",
      "2          3.0       1.0      3   \n",
      "3          4.0       1.0      1   \n",
      "4          5.0       0.0      3   \n",
      "\n",
      "                                                Name     Sex   Age  SibSp  \\\n",
      "0                            Braund, Mr. Owen Harris    male  22.0    1.0   \n",
      "1  Cumings, Mrs. John Bradley (Florence Briggs Th...  female  38.0    1.0   \n",
      "2                             Heikkinen, Miss. Laina  female  26.0    0.0   \n",
      "3       Futrelle, Mrs. Jacques Heath (Lily May Peel)  female  35.0    1.0   \n",
      "4                           Allen, Mr. William Henry    male  35.0    0.0   \n",
      "\n",
      "   Parch            Ticket     Fare Cabin Embarked  \n",
      "0    0.0         A/5 21171   7.2500   NaN        S  \n",
      "1    0.0          PC 17599  71.2833   C85        C  \n",
      "2    0.0  STON/O2. 3101282   7.9250   NaN        S  \n",
      "3    0.0            113803  53.1000  C123        S  \n",
      "4    0.0            373450   8.0500   NaN        S  \n"
     ]
    }
   ],
   "source": [
    "import pandas as pd\n",
    "\n",
    "# Load the Titanic dataset\n",
    "df = pd.read_csv('titanic.csv')\n",
    "\n",
    "# Display the first few rows of the dataset\n",
    "print(df.head())\n",
    "\n"
   ]
  },
  {
   "cell_type": "markdown",
   "metadata": {},
   "source": [
    "Use the `.info()` method to quickly preview which features have missing data"
   ]
  },
  {
   "cell_type": "code",
   "execution_count": 2,
   "metadata": {},
   "outputs": [
    {
     "name": "stdout",
     "output_type": "stream",
     "text": [
      "<class 'pandas.core.frame.DataFrame'>\n",
      "RangeIndex: 1391 entries, 0 to 1390\n",
      "Data columns (total 12 columns):\n",
      " #   Column       Non-Null Count  Dtype  \n",
      "---  ------       --------------  -----  \n",
      " 0   PassengerId  1391 non-null   float64\n",
      " 1   Survived     1391 non-null   float64\n",
      " 2   Pclass       1391 non-null   object \n",
      " 3   Name         1391 non-null   object \n",
      " 4   Sex          1391 non-null   object \n",
      " 5   Age          1209 non-null   float64\n",
      " 6   SibSp        1391 non-null   float64\n",
      " 7   Parch        1391 non-null   float64\n",
      " 8   Ticket       1391 non-null   object \n",
      " 9   Fare         1391 non-null   float64\n",
      " 10  Cabin        602 non-null    object \n",
      " 11  Embarked     1289 non-null   object \n",
      "dtypes: float64(6), object(6)\n",
      "memory usage: 130.5+ KB\n"
     ]
    }
   ],
   "source": [
    "# Use the .info() method to get a summary of the dataset\n",
    "df.info()"
   ]
  },
  {
   "cell_type": "markdown",
   "metadata": {},
   "source": [
    "## Observe previous measures of centrality\n",
    "\n",
    "Let's look at the `'Age'` feature. Calculate the mean, median, and standard deviation of this feature. Then plot a histogram of the distribution."
   ]
  },
  {
   "cell_type": "code",
   "execution_count": 3,
   "metadata": {
    "scrolled": true
   },
   "outputs": [
    {
     "name": "stdout",
     "output_type": "stream",
     "text": [
      "Mean Age: 29.731894127378\n",
      "Median Age: 27.0\n",
      "Standard Deviation of Age: 16.0701246034447\n"
     ]
    },
    {
     "data": {
      "image/png": "[encoded data removed]",
      "text/plain": [
       "<Figure size 720x432 with 1 Axes>"
      ]
     },
     "metadata": {
      "needs_background": "light"
     },
     "output_type": "display_data"
    }
   ],
   "source": [
    "import pandas as pd\n",
    "import matplotlib.pyplot as plt\n",
    "\n",
    "# Load the Titanic dataset\n",
    "df = pd.read_csv('titanic.csv')\n",
    "\n",
    "# Calculate the mean, median, and standard deviation of the 'Age' feature\n",
    "mean_age = df['Age'].mean()\n",
    "median_age = df['Age'].median()\n",
    "std_age = df['Age'].std()\n",
    "\n",
    "# Display the results\n",
    "print(f\"Mean Age: {mean_age}\")\n",
    "print(f\"Median Age: {median_age}\")\n",
    "print(f\"Standard Deviation of Age: {std_age}\")\n",
    "\n",
    "# Plot a histogram of the 'Age' distribution\n",
    "plt.figure(figsize=(10, 6))\n",
    "df['Age'].dropna().hist(bins=30, edgecolor='black')\n",
    "plt.title('Distribution of Age')\n",
    "plt.xlabel('Age')\n",
    "plt.ylabel('Frequency')\n",
    "plt.grid(True)\n",
    "plt.show()\n"
   ]
  },
  {
   "cell_type": "markdown",
   "metadata": {},
   "source": [
    "## Impute missing values using the mean \n",
    "\n",
    "Fill the missing `'Age'` values using the average age. (Don't overwrite the original data, as we will be comparing to other methods for dealing with the missing values.) Then recalculate the mean, median, and std and replot the histogram."
   ]
  },
  {
   "cell_type": "code",
   "execution_count": 4,
   "metadata": {},
   "outputs": [
    {
     "name": "stdout",
     "output_type": "stream",
     "text": [
      "Original Mean Age: 29.731894127378\n",
      "Mean Age after Filling: 29.731894127377995\n",
      "Median Age after Filling: 29.731894127378\n",
      "Standard Deviation of Age after Filling: 14.98115547604539\n"
     ]
    },
    {
     "data": {
      "image/png": "[encoded data removed]",
      "text/plain": [
       "<Figure size 720x432 with 1 Axes>"
      ]
     },
     "metadata": {
      "needs_background": "light"
     },
     "output_type": "display_data"
    }
   ],
   "source": [
    "import pandas as pd\n",
    "import matplotlib.pyplot as plt\n",
    "\n",
    "# Load the Titanic dataset\n",
    "df = pd.read_csv('titanic.csv')\n",
    "\n",
    "# Calculate the mean age of the original 'Age' column\n",
    "mean_age_original = df['Age'].mean()\n",
    "\n",
    "# Fill missing 'Age' values with the mean\n",
    "df_filled = df.copy()\n",
    "df_filled['Age'].fillna(df_filled['Age'].mean(), inplace=True)\n",
    "\n",
    "# Recalculate the mean, median, and standard deviation for the filled data\n",
    "mean_age_filled = df_filled['Age'].mean()\n",
    "median_age_filled = df_filled['Age'].median()\n",
    "std_age_filled = df_filled['Age'].std()\n",
    "\n",
    "# Display the recalculated statistics\n",
    "print(f\"Original Mean Age: {mean_age_original}\")\n",
    "print(f\"Mean Age after Filling: {mean_age_filled}\")\n",
    "print(f\"Median Age after Filling: {median_age_filled}\")\n",
    "print(f\"Standard Deviation of Age after Filling: {std_age_filled}\")\n",
    "\n",
    "# Plot a histogram of the 'Age' distribution after filling the missing values\n",
    "plt.figure(figsize=(10, 6))\n",
    "df_filled['Age'].hist(bins=30, edgecolor='black')\n",
    "plt.title('Distribution of Age (After Filling Missing Values)')\n",
    "plt.xlabel('Age')\n",
    "plt.ylabel('Frequency')\n",
    "plt.grid(True)\n",
    "plt.show()\n",
    "\n"
   ]
  },
  {
   "cell_type": "markdown",
   "metadata": {},
   "source": [
    "### Commentary\n",
    "\n",
    "Note that the standard deviation dropped, the median was slightly raised and the distribution has a larger mass near the center."
   ]
  },
  {
   "cell_type": "markdown",
   "metadata": {},
   "source": [
    "## Impute missing values using the median \n",
    "\n",
    "Fill the missing `'Age'` values, this time using the median age. (Again, don't overwrite the original data, as we will be comparing to other methods for dealing with the missing values.) Then recalculate the mean, median, and std and replot the histogram."
   ]
  },
  {
   "cell_type": "code",
   "execution_count": 6,
   "metadata": {},
   "outputs": [
    {
     "name": "stdout",
     "output_type": "stream",
     "text": [
      "Original Median Age: 27.0\n",
      "Mean Age after Filling with Median: 29.37445003594536\n",
      "Median Age after Filling with Median: 27.0\n",
      "Standard Deviation of Age after Filling with Median: 15.009475778073455\n"
     ]
    },
    {
     "data": {
      "text/plain": [
       "Text(0.5, 1.0, 'Distribution')"
      ]
     },
     "execution_count": 6,
     "metadata": {},
     "output_type": "execute_result"
    },
    {
     "data": {
      "image/png": "[encoded data removed]",
      "text/plain": [
       "<Figure size 720x432 with 1 Axes>"
      ]
     },
     "metadata": {
      "needs_background": "light"
     },
     "output_type": "display_data"
    }
   ],
   "source": [
    "import pandas as pd\n",
    "import matplotlib.pyplot as plt\n",
    "\n",
    "# Load the Titanic dataset\n",
    "df = pd.read_csv('titanic.csv')\n",
    "\n",
    "# Calculate the median age of the original 'Age' column\n",
    "median_age_original = df['Age'].median()\n",
    "\n",
    "# Fill missing 'Age' values with the median\n",
    "df_filled_median = df.copy()\n",
    "df_filled_median['Age'].fillna(df_filled_median['Age'].median(), inplace=True)\n",
    "\n",
    "# Recalculate the mean, median, and standard deviation for the filled data\n",
    "mean_age_filled_median = df_filled_median['Age'].mean()\n",
    "median_age_filled_median = df_filled_median['Age'].median()\n",
    "std_age_filled_median = df_filled_median['Age'].std()\n",
    "\n",
    "# Display the recalculated statistics\n",
    "print(f\"Original Median Age: {median_age_original}\")\n",
    "print(f\"Mean Age after Filling with Median: {mean_age_filled_median}\")\n",
    "print(f\"Median Age after Filling with Median: {median_age_filled_median}\")\n",
    "print(f\"Standard Deviation of Age after Filling with Median: {std_age_filled_median}\")\n",
    "\n",
    "# Plot a histogram of the 'Age' distribution after filling the missing values with the median\n",
    "plt.figure(figsize=(10, 6))\n",
    "df_filled_median['Age'].hist(bins=30, edgecolor='black')\n",
    "plt.title('Distribution')\n",
    "\n"
   ]
  },
  {
   "cell_type": "markdown",
   "metadata": {},
   "source": [
    "### Commentary\n",
    "\n",
    "Imputing the median has similar effectiveness to imputing the mean. The variance is reduced, while the mean is slightly lowered. You can once again see that there is a larger mass of data near the center of the distribution."
   ]
  },
  {
   "cell_type": "markdown",
   "metadata": {},
   "source": [
    "## Dropping rows\n",
    "\n",
    "Finally, let's observe the impact on the distribution if we were to simply drop all of the rows that are missing an age value. Then, calculate the mean, median and standard deviation of the ages along with a histogram, as before."
   ]
  },
  {
   "cell_type": "code",
   "execution_count": 7,
   "metadata": {},
   "outputs": [
    {
     "name": "stdout",
     "output_type": "stream",
     "text": [
      "Mean Age after Dropping Missing Values: 29.731894127378\n",
      "Median Age after Dropping Missing Values: 27.0\n",
      "Standard Deviation of Age after Dropping Missing Values: 16.0701246034447\n"
     ]
    },
    {
     "data": {
      "image/png": "[encoded data removed]",
      "text/plain": [
       "<Figure size 720x432 with 1 Axes>"
      ]
     },
     "metadata": {
      "needs_background": "light"
     },
     "output_type": "display_data"
    }
   ],
   "source": [
    "import pandas as pd\n",
    "import matplotlib.pyplot as plt\n",
    "\n",
    "# Load the Titanic dataset\n",
    "df = pd.read_csv('titanic.csv')\n",
    "\n",
    "# Drop rows where the 'Age' value is missing\n",
    "df_dropped = df.dropna(subset=['Age'])\n",
    "\n",
    "# Recalculate the mean, median, and standard deviation for the data after dropping missing values\n",
    "mean_age_dropped = df_dropped['Age'].mean()\n",
    "median_age_dropped = df_dropped['Age'].median()\n",
    "std_age_dropped = df_dropped['Age'].std()\n",
    "\n",
    "# Display the recalculated statistics\n",
    "print(f\"Mean Age after Dropping Missing Values: {mean_age_dropped}\")\n",
    "print(f\"Median Age after Dropping Missing Values: {median_age_dropped}\")\n",
    "print(f\"Standard Deviation of Age after Dropping Missing Values: {std_age_dropped}\")\n",
    "\n",
    "# Plot a histogram of the 'Age' distribution after dropping rows with missing values\n",
    "plt.figure(figsize=(10, 6))\n",
    "df_dropped['Age'].hist(bins=30, edgecolor='black')\n",
    "plt.title('Distribution of Age (After Dropping Missing Values)')\n",
    "plt.xlabel('Age')\n",
    "plt.ylabel('Frequency')\n",
    "plt.grid(True)\n",
    "plt.show()\n",
    "\n"
   ]
  },
  {
   "cell_type": "markdown",
   "metadata": {},
   "source": [
    "### Commentary\n",
    "\n",
    "Dropping missing values leaves the distribution and associated measures of centrality unchanged, but at the cost of throwing away data.\n",
    "\n",
    "## Summary\n",
    "\n",
    "In this lab, you briefly practiced some common techniques for dealing with missing data. Moreover, you observed the impact that these methods had on the distribution of the feature itself. When you begin to tune models on your data, these considerations will be an essential process of developing robust and accurate models."
   ]
  }
 ],
 "metadata": {
  "kernelspec": {
   "display_name": "Python 3",
   "language": "python",
   "name": "python3"
  },
  "language_info": {
   "codemirror_mode": {
    "name": "ipython",
    "version": 3
   },
   "file_extension": ".py",
   "mimetype": "text/x-python",
   "name": "python",
   "nbconvert_exporter": "python",
   "pygments_lexer": "ipython3",
   "version": "3.8.5"
  }
 },
 "nbformat": 4,
 "nbformat_minor": 2
}
